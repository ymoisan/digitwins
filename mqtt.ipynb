{
 "cells": [
  {
   "cell_type": "code",
   "execution_count": 1,
   "metadata": {},
   "outputs": [],
   "source": [
    "import paho.mqtt.client as mqtt\n",
    "from datetime import datetime\n",
    "import time"
   ]
  },
  {
   "cell_type": "code",
   "execution_count": 2,
   "metadata": {},
   "outputs": [],
   "source": [
    "def simulate_sensor_publish(\n",
    "    broker_host: str = 'localhost',\n",
    "    broker_port: int = 31883,\n",
    "    topic: str = 'sensors/measurement',\n",
    "    interval: float = 1.0,\n",
    "    count: int = 1\n",
    "):\n",
    "    \"\"\"\n",
    "    Simulate a sensor by publishing the current date and time as payload to an MQTT broker.\n",
    "\n",
    "    Args:\n",
    "        broker_host (str): MQTT broker address.\n",
    "        broker_port (int): MQTT broker port.\n",
    "        topic (str): MQTT topic to publish to.\n",
    "        interval (float): Seconds between messages.\n",
    "        count (int): Number of messages to send.\n",
    "    \"\"\"\n",
    "    client = mqtt.Client()\n",
    "    client.connect(broker_host, broker_port, 60)\n",
    "    for i in range(count):\n",
    "        payload = datetime.now().isoformat()\n",
    "        result = client.publish(topic, payload)\n",
    "        status = result[0]\n",
    "        if status == 0:\n",
    "            print(f\"Sent `{payload}` to topic `{topic}`\")\n",
    "        else:\n",
    "            print(f\"Failed to send message to topic {topic}\")\n",
    "        time.sleep(interval)\n",
    "    client.disconnect()"
   ]
  },
  {
   "cell_type": "code",
   "execution_count": 3,
   "metadata": {},
   "outputs": [
    {
     "name": "stderr",
     "output_type": "stream",
     "text": [
      "C:\\Users\\ymoisan\\AppData\\Local\\Temp\\ipykernel_24848\\804720743.py:18: DeprecationWarning: Callback API version 1 is deprecated, update to latest version\n",
      "  client = mqtt.Client()\n"
     ]
    },
    {
     "name": "stdout",
     "output_type": "stream",
     "text": [
      "Sent `2025-06-26T16:25:58.673261` to topic `sensors/measurement`\n",
      "Sent `2025-06-26T16:25:59.673688` to topic `sensors/measurement`\n",
      "Sent `2025-06-26T16:26:00.674536` to topic `sensors/measurement`\n",
      "Sent `2025-06-26T16:26:01.675685` to topic `sensors/measurement`\n",
      "Sent `2025-06-26T16:26:02.676924` to topic `sensors/measurement`\n"
     ]
    }
   ],
   "source": [
    "# Example: send 5 messages, 1 second apart\n",
    "simulate_sensor_publish(count=5, interval=1.0)"
   ]
  },
  {
   "cell_type": "code",
   "execution_count": null,
   "metadata": {},
   "outputs": [],
   "source": []
  }
 ],
 "metadata": {
  "kernelspec": {
   "display_name": "default",
   "language": "python",
   "name": "python3"
  },
  "language_info": {
   "codemirror_mode": {
    "name": "ipython",
    "version": 3
   },
   "file_extension": ".py",
   "mimetype": "text/x-python",
   "name": "python",
   "nbconvert_exporter": "python",
   "pygments_lexer": "ipython3",
   "version": "3.11.13"
  }
 },
 "nbformat": 4,
 "nbformat_minor": 2
}
